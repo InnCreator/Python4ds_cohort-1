{
 "cells": [
  {
   "cell_type": "code",
   "execution_count": 1,
   "metadata": {},
   "outputs": [],
   "source": [
    "import pandas as pd\n",
    "import numpy as np"
   ]
  },
  {
   "cell_type": "markdown",
   "metadata": {},
   "source": [
    "## PANDA SERIES CREATION AND INDEXING\n",
    "\n",
    "Using data from step tracking app to create pandas series"
   ]
  },
  {
   "cell_type": "code",
   "execution_count": 2,
   "metadata": {},
   "outputs": [
    {
     "name": "stdout",
     "output_type": "stream",
     "text": [
      "0     234\n",
      "1     435\n",
      "2     545\n",
      "3    6764\n",
      "4      54\n",
      "5    4564\n",
      "Name: steps, dtype: int64\n"
     ]
    }
   ],
   "source": [
    "steps_data = [234, 435, 545, 6764, 54, 4564]\n",
    "steps_count = pd.Series(steps_data, name = 'steps')\n",
    "print(steps_count)"
   ]
  },
  {
   "cell_type": "markdown",
   "metadata": {},
   "source": [
    "A date range to the Series"
   ]
  },
  {
   "cell_type": "code",
   "execution_count": 3,
   "metadata": {},
   "outputs": [
    {
     "name": "stdout",
     "output_type": "stream",
     "text": [
      "2019-03-14     234\n",
      "2019-03-15     435\n",
      "2019-03-16     545\n",
      "2019-03-17    6764\n",
      "2019-03-18      54\n",
      "2019-03-19    4564\n",
      "Freq: D, Name: steps, dtype: int64\n"
     ]
    }
   ],
   "source": [
    "steps_count.index = pd.date_range('20190314',\n",
    "                                 periods = 6)\n",
    "print(steps_count)"
   ]
  },
  {
   "cell_type": "markdown",
   "metadata": {},
   "source": [
    "Select Data by the index values"
   ]
  },
  {
   "cell_type": "code",
   "execution_count": 4,
   "metadata": {},
   "outputs": [
    {
     "name": "stdout",
     "output_type": "stream",
     "text": [
      "54\n"
     ]
    }
   ],
   "source": [
    "#like a ddictionary\n",
    "print(steps_count['2019-03-18'])"
   ]
  },
  {
   "cell_type": "code",
   "execution_count": 5,
   "metadata": {},
   "outputs": [
    {
     "name": "stdout",
     "output_type": "stream",
     "text": [
      "234\n"
     ]
    }
   ],
   "source": [
    " print(steps_count[0])"
   ]
  },
  {
   "cell_type": "code",
   "execution_count": 6,
   "metadata": {},
   "outputs": [
    {
     "name": "stdout",
     "output_type": "stream",
     "text": [
      "2019-03-14     234\n",
      "2019-03-15     435\n",
      "2019-03-16     545\n",
      "2019-03-17    6764\n",
      "2019-03-18      54\n",
      "2019-03-19    4564\n",
      "Freq: D, Name: steps, dtype: int64\n"
     ]
    }
   ],
   "source": [
    "print(steps_count['2019-03'])"
   ]
  },
  {
   "cell_type": "markdown",
   "metadata": {},
   "source": [
    "# PANDA DATA TYPES AND IMPUTATION\n",
    "Data types can be viewed and converted"
   ]
  },
  {
   "cell_type": "code",
   "execution_count": 7,
   "metadata": {},
   "outputs": [
    {
     "name": "stdout",
     "output_type": "stream",
     "text": [
      "int64\n"
     ]
    }
   ],
   "source": [
    "#view data types\n",
    "print(steps_count.dtypes)"
   ]
  },
  {
   "cell_type": "code",
   "execution_count": 8,
   "metadata": {},
   "outputs": [
    {
     "name": "stdout",
     "output_type": "stream",
     "text": [
      "float64\n"
     ]
    }
   ],
   "source": [
    "#convert to float \n",
    "steps_count = steps_count.astype(np.float)\n",
    "#view the changed data type\n",
    "print(steps_count.dtypes)"
   ]
  },
  {
   "cell_type": "markdown",
   "metadata": {},
   "source": [
    "Invalid points can be filled easily with values"
   ]
  },
  {
   "cell_type": "code",
   "execution_count": 9,
   "metadata": {},
   "outputs": [
    {
     "name": "stdout",
     "output_type": "stream",
     "text": [
      "2019-03-15    0.0\n",
      "2019-03-16    0.0\n",
      "Freq: D, Name: steps, dtype: float64\n"
     ]
    }
   ],
   "source": [
    "#create invalid data\n",
    "steps_count[1:3] = np.NaN\n",
    "\n",
    "#fill it with zeros\n",
    "steps_count = steps_count.fillna(0.)\n",
    "#equvalently\n",
    "#steps.count.fillna(0., inplace = True)\n",
    "print(steps_count[1:3])"
   ]
  },
  {
   "cell_type": "markdown",
   "metadata": {},
   "source": [
    "# Pandas DataFrame Creation and Methods\n",
    "\n",
    "DataFrames can be created from lists, dictionaries and Pandas Series"
   ]
  },
  {
   "cell_type": "code",
   "execution_count": 10,
   "metadata": {},
   "outputs": [
    {
     "name": "stdout",
     "output_type": "stream",
     "text": [
      "      0     1\n",
      "0   234  10.2\n",
      "1   435   0.0\n",
      "2   545   NaN\n",
      "3  6764   2.3\n",
      "4    54  23.4\n",
      "5  4564   3.4\n"
     ]
    }
   ],
   "source": [
    "#riding distance\n",
    "ride_data = [10.2, 0, None, 2.3, 23.4, 3.4, \n",
    "             0, 1.2, None]\n",
    "#creating a tuple of data\n",
    "joined_data = list(zip(steps_data,\n",
    "                      ride_data))\n",
    "#The DataFrame\n",
    "activity_df = pd.DataFrame(joined_data)\n",
    "print(activity_df)\n"
   ]
  },
  {
   "cell_type": "markdown",
   "metadata": {},
   "source": [
    "Labeled columns and an index can be added"
   ]
  },
  {
   "cell_type": "code",
   "execution_count": 11,
   "metadata": {},
   "outputs": [
    {
     "name": "stdout",
     "output_type": "stream",
     "text": [
      "            Walking  Riding\n",
      "2019-03-14      234    10.2\n",
      "2019-03-15      435     0.0\n",
      "2019-03-16      545     NaN\n",
      "2019-03-17     6764     2.3\n",
      "2019-03-18       54    23.4\n",
      "2019-03-19     4564     3.4\n"
     ]
    }
   ],
   "source": [
    "#add column names to dataFrame\n",
    "activity_df = pd.DataFrame(joined_data,\n",
    "                          index = pd.date_range\n",
    "                           ('20190314', periods = 6),\n",
    "                          columns = ['Walking','Riding'])\n",
    "print(activity_df)"
   ]
  },
  {
   "cell_type": "markdown",
   "metadata": {},
   "source": [
    "# Indexing DataFrames Rows\n",
    "DataFrame rows can be indexed by row using the 'loc' and 'iloc' methods"
   ]
  },
  {
   "cell_type": "code",
   "execution_count": 12,
   "metadata": {},
   "outputs": [
    {
     "name": "stdout",
     "output_type": "stream",
     "text": [
      "Walking    6764.0\n",
      "Riding        2.3\n",
      "Name: 2019-03-17 00:00:00, dtype: float64\n"
     ]
    }
   ],
   "source": [
    "#select row of data by index name\n",
    "print(activity_df.loc['2019-03-17'])"
   ]
  },
  {
   "cell_type": "code",
   "execution_count": 13,
   "metadata": {},
   "outputs": [
    {
     "name": "stdout",
     "output_type": "stream",
     "text": [
      "Walking    6764.0\n",
      "Riding        2.3\n",
      "Name: 2019-03-17 00:00:00, dtype: float64\n"
     ]
    }
   ],
   "source": [
    "#select row of data by integer position\n",
    "print(activity_df.iloc[-3])"
   ]
  },
  {
   "cell_type": "markdown",
   "metadata": {},
   "source": [
    "# Indexing DataFrame Column\n",
    "DataFrame columns can be indexed by name"
   ]
  },
  {
   "cell_type": "code",
   "execution_count": 14,
   "metadata": {
    "scrolled": true
   },
   "outputs": [
    {
     "name": "stdout",
     "output_type": "stream",
     "text": [
      "2019-03-14    10.2\n",
      "2019-03-15     0.0\n",
      "2019-03-16     NaN\n",
      "2019-03-17     2.3\n",
      "2019-03-18    23.4\n",
      "2019-03-19     3.4\n",
      "Freq: D, Name: Riding, dtype: float64\n"
     ]
    }
   ],
   "source": [
    "#name of column\n",
    "print(activity_df['Riding'])"
   ]
  },
  {
   "cell_type": "markdown",
   "metadata": {},
   "source": [
    "DataFrame columns can also be indexed as properties"
   ]
  },
  {
   "cell_type": "code",
   "execution_count": 15,
   "metadata": {},
   "outputs": [
    {
     "name": "stdout",
     "output_type": "stream",
     "text": [
      "2019-03-14    10.2\n",
      "2019-03-15     0.0\n",
      "2019-03-16     NaN\n",
      "2019-03-17     2.3\n",
      "2019-03-18    23.4\n",
      "2019-03-19     3.4\n",
      "Freq: D, Name: Riding, dtype: float64\n"
     ]
    }
   ],
   "source": [
    "#Object oriented approach\n",
    "print(activity_df.Riding)"
   ]
  },
  {
   "cell_type": "markdown",
   "metadata": {},
   "source": [
    "DataFrame columns can also be indexed by integer"
   ]
  },
  {
   "cell_type": "code",
   "execution_count": 16,
   "metadata": {},
   "outputs": [
    {
     "name": "stdout",
     "output_type": "stream",
     "text": [
      "2019-03-14     234\n",
      "2019-03-15     435\n",
      "2019-03-16     545\n",
      "2019-03-17    6764\n",
      "2019-03-18      54\n",
      "2019-03-19    4564\n",
      "Freq: D, Name: Walking, dtype: int64\n"
     ]
    }
   ],
   "source": [
    "#first column\n",
    "print(activity_df.iloc[:,0])"
   ]
  },
  {
   "cell_type": "markdown",
   "metadata": {},
   "source": [
    "# Reading Data with Pandas\n",
    "CSV  and other common filetypes can be read with a single command"
   ]
  },
  {
   "cell_type": "code",
   "execution_count": 17,
   "metadata": {},
   "outputs": [
    {
     "name": "stdout",
     "output_type": "stream",
     "text": [
      "   sepal_length  sepal_width  petal_length  petal_width      species\n",
      "0           5.1          3.5           1.4          0.2  Iris-setosa\n",
      "1           4.9          3.0           1.4          0.2  Iris-setosa\n",
      "2           4.7          3.2           1.3          0.2  Iris-setosa\n",
      "3           4.6          3.1           1.5          0.2  Iris-setosa\n",
      "4           5.0          3.6           1.4          0.2  Iris-setosa\n"
     ]
    }
   ],
   "source": [
    "#the location of data file\n",
    "filepath = 'data/Iris_Data.csv'\n",
    "\n",
    "#Import the data\n",
    "data = pd.read_csv(filepath)\n",
    "\n",
    "#Print a few rows\n",
    "print(data.iloc[:5])"
   ]
  },
  {
   "cell_type": "markdown",
   "metadata": {},
   "source": [
    "# Assigning new data to a DataFrame\n",
    "Data can be (re)assigned to a DataFrame column"
   ]
  },
  {
   "cell_type": "code",
   "execution_count": 18,
   "metadata": {},
   "outputs": [
    {
     "name": "stdout",
     "output_type": "stream",
     "text": [
      "   petal_width      species  sepal_area\n",
      "0          0.2  Iris-setosa       17.85\n",
      "1          0.2  Iris-setosa       14.70\n",
      "2          0.2  Iris-setosa       15.04\n",
      "3          0.2  Iris-setosa       14.26\n",
      "4          0.2  Iris-setosa       18.00\n"
     ]
    }
   ],
   "source": [
    "#Create a new column that is a product of both \n",
    "#measurements\n",
    "data['sepal_area'] = data.sepal_length * data.sepal_width\n",
    "\n",
    "#print a few rows and columns\n",
    "print(data.iloc[:5, -3:])"
   ]
  },
  {
   "cell_type": "markdown",
   "metadata": {},
   "source": [
    "# Applying a Function to a DataFrame Column\n",
    "Functions can be applied to columns or rows of a DataFrame or Series"
   ]
  },
  {
   "cell_type": "code",
   "execution_count": 19,
   "metadata": {},
   "outputs": [
    {
     "name": "stdout",
     "output_type": "stream",
     "text": [
      "       species  sepal_area  abbrev\n",
      "0  Iris-setosa       17.85  setosa\n",
      "1  Iris-setosa       14.70  setosa\n",
      "2  Iris-setosa       15.04  setosa\n",
      "3  Iris-setosa       14.26  setosa\n",
      "4  Iris-setosa       18.00  setosa\n"
     ]
    }
   ],
   "source": [
    "#The labda function applies what follows \n",
    "#it to each row of data\n",
    "data['abbrev'] = (data.species.apply(lambda x:\n",
    "                                    x.replace\n",
    "                                     ('Iris-','')))\n",
    "\n",
    "#Note thet there are other ways to accomplish the above\n",
    "\n",
    "print(data.iloc[:5, -3:])"
   ]
  },
  {
   "cell_type": "markdown",
   "metadata": {},
   "source": [
    "# Concatenating(Combining) two DataFrames\n",
    "Two DataFrames can be combined along either dimension"
   ]
  },
  {
   "cell_type": "code",
   "execution_count": 20,
   "metadata": {},
   "outputs": [
    {
     "name": "stdout",
     "output_type": "stream",
     "text": [
      "            species  sepal_area     abbrev\n",
      "0       Iris-setosa       17.85     setosa\n",
      "1       Iris-setosa       14.70     setosa\n",
      "148  Iris-virginica       21.08  virginica\n",
      "149  Iris-virginica       17.70  virginica\n"
     ]
    }
   ],
   "source": [
    "#concatenate the first two and last two rows\n",
    "small_data = pd.concat([data.iloc[:2],\n",
    "                       data.iloc[-2:]])\n",
    "\n",
    "print(small_data.iloc[:,-3:])\n",
    "#see the 'join' method for SQL style joining of dfs"
   ]
  },
  {
   "cell_type": "markdown",
   "metadata": {},
   "source": [
    "# Aggregated Statistic with GroupBy\n",
    "Using the groupby method calculated aggregated DF Statistics"
   ]
  },
  {
   "cell_type": "code",
   "execution_count": 21,
   "metadata": {},
   "outputs": [
    {
     "name": "stdout",
     "output_type": "stream",
     "text": [
      "<bound method GroupBy.size of <pandas.core.groupby.generic.DataFrameGroupBy object at 0x000001914AEDD390>>\n"
     ]
    }
   ],
   "source": [
    "#use size method with a df to get count for a series\n",
    "#and .value_counts method\n",
    "group_sizes = (data.groupby('species').size)\n",
    "print(group_sizes)"
   ]
  },
  {
   "cell_type": "markdown",
   "metadata": {},
   "source": [
    "# Performing Statistical Calculations\n",
    "Pandas contains a variety of statistical methods ----mean, median and mode"
   ]
  },
  {
   "cell_type": "code",
   "execution_count": 22,
   "metadata": {},
   "outputs": [
    {
     "name": "stdout",
     "output_type": "stream",
     "text": [
      "sepal_length     5.843333\n",
      "sepal_width      3.054000\n",
      "petal_length     3.758667\n",
      "petal_width      1.198667\n",
      "sepal_area      17.806533\n",
      "dtype: float64\n"
     ]
    }
   ],
   "source": [
    "#mean calculated on a df\n",
    "print(data.mean())"
   ]
  },
  {
   "cell_type": "code",
   "execution_count": 23,
   "metadata": {},
   "outputs": [
    {
     "name": "stdout",
     "output_type": "stream",
     "text": [
      "4.35\n"
     ]
    }
   ],
   "source": [
    "#median calculated on a Series\n",
    "print(data.petal_length.median())"
   ]
  },
  {
   "cell_type": "code",
   "execution_count": 24,
   "metadata": {},
   "outputs": [
    {
     "name": "stdout",
     "output_type": "stream",
     "text": [
      "0    1.5\n",
      "dtype: float64\n"
     ]
    }
   ],
   "source": [
    "#mode calculated on a Series\n",
    "print(data.petal_length.mode())"
   ]
  },
  {
   "cell_type": "markdown",
   "metadata": {},
   "source": [
    "Standard Deviation, Variance, SEM and quantiles"
   ]
  },
  {
   "cell_type": "code",
   "execution_count": 25,
   "metadata": {},
   "outputs": [
    {
     "name": "stdout",
     "output_type": "stream",
     "text": [
      "1.7644204199522617 3.1131794183445156 0.1440643240210084\n"
     ]
    }
   ],
   "source": [
    "#standard dev, variance and SEM\n",
    "print(data.petal_length.std(),\n",
    "     data.petal_length.var(),\n",
    "     data.petal_length.sem())"
   ]
  },
  {
   "cell_type": "code",
   "execution_count": 26,
   "metadata": {},
   "outputs": [
    {
     "name": "stdout",
     "output_type": "stream",
     "text": [
      "sepal_length     4.3\n",
      "sepal_width      2.0\n",
      "petal_length     1.0\n",
      "petal_width      0.1\n",
      "sepal_area      10.0\n",
      "Name: 0, dtype: float64\n"
     ]
    }
   ],
   "source": [
    "#Quantiles\n",
    "print(data.quantile(0))"
   ]
  },
  {
   "cell_type": "code",
   "execution_count": 27,
   "metadata": {},
   "outputs": [
    {
     "name": "stdout",
     "output_type": "stream",
     "text": [
      "       sepal_length  sepal_width  petal_length  petal_width  sepal_area\n",
      "count    150.000000   150.000000    150.000000   150.000000  150.000000\n",
      "mean       5.843333     3.054000      3.758667     1.198667   17.806533\n",
      "std        0.828066     0.433594      1.764420     0.763161    3.368693\n",
      "min        4.300000     2.000000      1.000000     0.100000   10.000000\n",
      "25%        5.100000     2.800000      1.600000     0.300000   15.645000\n",
      "50%        5.800000     3.000000      4.350000     1.300000   17.660000\n",
      "75%        6.400000     3.300000      5.100000     1.800000   20.325000\n",
      "max        7.900000     4.400000      6.900000     2.500000   30.020000\n"
     ]
    }
   ],
   "source": [
    "#multiple calculations can be presented in a df\n",
    "print(data.describe())"
   ]
  },
  {
   "cell_type": "markdown",
   "metadata": {},
   "source": [
    "# Sampling from DataFrames\n",
    "DataFrames can be randomly sampled from "
   ]
  },
  {
   "cell_type": "code",
   "execution_count": 30,
   "metadata": {},
   "outputs": [
    {
     "name": "stdout",
     "output_type": "stream",
     "text": [
      "             species  sepal_area      abbrev\n",
      "73   Iris-versicolor       17.08  versicolor\n",
      "18       Iris-setosa       21.66      setosa\n",
      "118   Iris-virginica       20.02   virginica\n",
      "78   Iris-versicolor       17.40  versicolor\n",
      "76   Iris-versicolor       19.04  versicolor\n"
     ]
    }
   ],
   "source": [
    "#sample 5 rows without replacement\n",
    "sample = (data.sample(n=5, replace=False,\n",
    "                     random_state = 42))\n",
    "print(sample.iloc[:,-3:])"
   ]
  },
  {
   "cell_type": "markdown",
   "metadata": {},
   "source": [
    "SciPy & Numpy also contain a variety of Stats functions"
   ]
  },
  {
   "cell_type": "code",
   "execution_count": null,
   "metadata": {},
   "outputs": [],
   "source": []
  }
 ],
 "metadata": {
  "kernelspec": {
   "display_name": "Python 3",
   "language": "python",
   "name": "python3"
  },
  "language_info": {
   "codemirror_mode": {
    "name": "ipython",
    "version": 3
   },
   "file_extension": ".py",
   "mimetype": "text/x-python",
   "name": "python",
   "nbconvert_exporter": "python",
   "pygments_lexer": "ipython3",
   "version": "3.7.3"
  }
 },
 "nbformat": 4,
 "nbformat_minor": 2
}
