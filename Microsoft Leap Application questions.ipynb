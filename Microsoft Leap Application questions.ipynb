{
 "cells": [
  {
   "cell_type": "markdown",
   "metadata": {},
   "source": [
    "# Given two integers, an hour and a minute, write a function to calculate the angle between the two hands on a clock representing that time. \n",
    "\n",
    "For example: clockAngle(3:40) = 130°"
   ]
  },
  {
   "cell_type": "code",
   "execution_count": 1,
   "metadata": {},
   "outputs": [
    {
     "name": "stdout",
     "output_type": "stream",
     "text": [
      "130.0\n"
     ]
    }
   ],
   "source": [
    "def  calculateAngle(hr,mn):\n",
    "        if (hr < 0 or mn < 0 or hr > 12 or mn > 60): \n",
    "            print('Wrong input') \n",
    "          \n",
    "        if (hr == 12): \n",
    "            hr = 0\n",
    "        if (mn == 60): \n",
    "            mn = 0\n",
    "   \n",
    "        hour_angle = 0.5 * (hr * 60 + mn) \n",
    "        minute_angle = 6 * mn \n",
    "         \n",
    "        angle = abs(hour_angle - minute_angle) \n",
    "          \n",
    "        angle = min(360 - angle, angle) \n",
    "          \n",
    "        return angle \n",
    "hr = 3\n",
    "mn = 40\n",
    "print(calculateAngle(hr,mn))\n"
   ]
  },
  {
   "cell_type": "markdown",
   "metadata": {},
   "source": [
    "# A string is wound symmetrically around a circular rod. The string goes exactly four times around the rod. The circumference of the rod is 4cm and its length is 12cm. Find the length of the string."
   ]
  },
  {
   "cell_type": "code",
   "execution_count": 2,
   "metadata": {},
   "outputs": [
    {
     "data": {
      "text/plain": [
       "12"
      ]
     },
     "execution_count": 2,
     "metadata": {},
     "output_type": "execute_result"
    }
   ],
   "source": [
    "12"
   ]
  },
  {
   "cell_type": "markdown",
   "metadata": {},
   "source": [
    "# Three ants are sitting at the three corners of an equilateral triangle. Each ant randomly picks a direction and starts to move along the edge of the triangle. What is the probability that none of the ants collide?"
   ]
  },
  {
   "cell_type": "markdown",
   "metadata": {},
   "source": [
    " if they pick the same direction either going clockwise or anticockwise, none of the ants will collide. If they pick different directions, they will definitely collide: P(No collision) = x(All ants go clockwise) + y( All ants go anti-clockwise) = 0.5 * 0.5 * 0.5 + 0.5 * 0.5 * 0.5 = 0.25"
   ]
  },
  {
   "cell_type": "markdown",
   "metadata": {},
   "source": [
    "## A shaded region is constructed within an equilateral triangle using the midpoint A of a side, and the midpoint between AB. What fraction is shaded?"
   ]
  },
  {
   "cell_type": "code",
   "execution_count": 4,
   "metadata": {},
   "outputs": [
    {
     "data": {
      "text/plain": [
       "0.25"
      ]
     },
     "execution_count": 4,
     "metadata": {},
     "output_type": "execute_result"
    }
   ],
   "source": [
    "1/4"
   ]
  }
 ],
 "metadata": {
  "kernelspec": {
   "display_name": "Python 3",
   "language": "python",
   "name": "python3"
  },
  "language_info": {
   "codemirror_mode": {
    "name": "ipython",
    "version": 3
   },
   "file_extension": ".py",
   "mimetype": "text/x-python",
   "name": "python",
   "nbconvert_exporter": "python",
   "pygments_lexer": "ipython3",
   "version": "3.7.3"
  }
 },
 "nbformat": 4,
 "nbformat_minor": 2
}
